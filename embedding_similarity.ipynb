{
  "nbformat": 4,
  "nbformat_minor": 0,
  "metadata": {
    "colab": {
      "provenance": [],
      "authorship_tag": "ABX9TyOSqOOkw/6/MQ95ylULrk8d",
      "include_colab_link": true
    },
    "kernelspec": {
      "name": "python3",
      "display_name": "Python 3"
    },
    "language_info": {
      "name": "python"
    }
  },
  "cells": [
    {
      "cell_type": "markdown",
      "metadata": {
        "id": "view-in-github",
        "colab_type": "text"
      },
      "source": [
        "<a href=\"https://colab.research.google.com/github/bathn456/Embedding/blob/similarity/embedding_similarity.ipynb\" target=\"_parent\"><img src=\"https://colab.research.google.com/assets/colab-badge.svg\" alt=\"Open In Colab\"/></a>"
      ]
    },
    {
      "cell_type": "code",
      "execution_count": null,
      "metadata": {
        "colab": {
          "base_uri": "https://localhost:8080/"
        },
        "id": "Pqi9tb-oOS5y",
        "outputId": "f3c898ef-c16e-4b22-a447-da196e23f82f"
      },
      "outputs": [
        {
          "output_type": "stream",
          "name": "stdout",
          "text": [
            "Kelime Embeddingleri:\n",
            "kedi: [ 0.62889721 -0.19608664 -0.30682754 -0.63231553]\n",
            "sütü: [ 0.03161816  0.40470027  0.86483559 -0.11307654]\n",
            "ısırdı: [ 0.16757557 -0.94349933  0.06756713 -0.15051105]\n",
            "beni: [ 0.9776292   0.37150407 -0.16170411 -0.87618346]\n",
            "içti: [-0.88607703 -0.75503639  0.83712222 -0.98847073]\n",
            "\n",
            "Seçilen kelimeler: kedi, sütü\n",
            "Tahmin edilen embedding: [ 0.33025768  0.10430682  0.27900402 -0.37269603]\n",
            "Benzerlik (Tahmin vs ısırdı): 0.0565\n",
            "Benzerlik (Tahmin vs beni): 0.8066\n",
            "Benzerlik (Tahmin vs içti): 0.2282\n",
            "\n",
            "Tahmin edilen 3. kelime: beni\n"
          ]
        }
      ],
      "source": [
        "import numpy as np\n",
        "\n",
        "\n",
        "words = [\"kedi\", \"sütü\", \"ısırdı\", \"beni\", \"içti\"]\n",
        "dim = 4\n",
        "\n",
        "embedding_dict = {word: np.random.uniform(-1, 1, dim) for word in words}\n",
        "\n",
        "def cosine_similarity(a, b, w1=None, w2=None):\n",
        "    dot_product = np.dot(a, b)\n",
        "    norm_a = np.linalg.norm(a)\n",
        "    norm_b = np.linalg.norm(b)\n",
        "    similarity = dot_product / (norm_a * norm_b)\n",
        "    if w1 and w2:\n",
        "        print(f\"Benzerlik ({w1} vs {w2}): {similarity:.4f}\")\n",
        "    return similarity\n",
        "\n",
        "def find_closest_word(vec, embeddings):\n",
        "    max_sim = -1\n",
        "    closest_word = None\n",
        "    for word, emb in embeddings.items():\n",
        "        sim = cosine_similarity(vec, emb, \"Tahmin\", word)\n",
        "        if sim > max_sim:\n",
        "            max_sim = sim\n",
        "            closest_word = word\n",
        "    return closest_word\n",
        "\n",
        "\n",
        "input_words = [\"kedi\", \"sütü\"]\n",
        "\n",
        "print(\"Kelime Embeddingleri:\")\n",
        "for w, emb in embedding_dict.items():\n",
        "    print(f\"{w}: {emb}\")\n",
        "\n",
        "\n",
        "predicted_embedding = (embedding_dict[input_words[0]] + embedding_dict[input_words[1]]) / 2\n",
        "\n",
        "print(f\"\\nSeçilen kelimeler: {input_words[0]}, {input_words[1]}\")\n",
        "print(f\"Tahmin edilen embedding: {predicted_embedding}\")\n",
        "\n",
        "\n",
        "candidate_embeddings = {w: e for w, e in embedding_dict.items() if w not in input_words}\n",
        "predicted_word = find_closest_word(predicted_embedding, candidate_embeddings)\n",
        "\n",
        "print(f\"\\nTahmin edilen 3. kelime: {predicted_word}\")"
      ]
    },
    {
      "cell_type": "code",
      "source": [
        "dzsvfsvsdfsdsd"
      ],
      "metadata": {
        "colab": {
          "base_uri": "https://localhost:8080/",
          "height": 146
        },
        "id": "K99lqyNbgzHT",
        "outputId": "6e0dd1e2-1844-474a-f179-b5bd38265ff5"
      },
      "execution_count": null,
      "outputs": [
        {
          "output_type": "error",
          "ename": "NameError",
          "evalue": "name 'dzsvfsvsdfsdsd' is not defined",
          "traceback": [
            "\u001b[0;31m---------------------------------------------------------------------------\u001b[0m",
            "\u001b[0;31mNameError\u001b[0m                                 Traceback (most recent call last)",
            "\u001b[0;32m/tmp/ipython-input-3469289246.py\u001b[0m in \u001b[0;36m<cell line: 0>\u001b[0;34m()\u001b[0m\n\u001b[0;32m----> 1\u001b[0;31m \u001b[0mdzsvfsvsdfsdsd\u001b[0m\u001b[0;34m\u001b[0m\u001b[0;34m\u001b[0m\u001b[0m\n\u001b[0m",
            "\u001b[0;31mNameError\u001b[0m: name 'dzsvfsvsdfsdsd' is not defined"
          ]
        }
      ]
    },
    {
      "cell_type": "code",
      "source": [],
      "metadata": {
        "id": "88Fp-uC_g2hg"
      },
      "execution_count": null,
      "outputs": []
    }
  ]
}