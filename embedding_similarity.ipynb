{
  "nbformat": 4,
  "nbformat_minor": 0,
  "metadata": {
    "colab": {
      "provenance": [],
      "authorship_tag": "ABX9TyOfGRQ/S3AtRLnXgOiTPSoc",
      "include_colab_link": true
    },
    "kernelspec": {
      "name": "python3",
      "display_name": "Python 3"
    },
    "language_info": {
      "name": "python"
    }
  },
  "cells": [
    {
      "cell_type": "markdown",
      "metadata": {
        "id": "view-in-github",
        "colab_type": "text"
      },
      "source": [
        "<a href=\"https://colab.research.google.com/github/bathn456/Embedding/blob/similarity/embedding_similarity.ipynb\" target=\"_parent\"><img src=\"https://colab.research.google.com/assets/colab-badge.svg\" alt=\"Open In Colab\"/></a>"
      ]
    },
    {
      "cell_type": "code",
      "execution_count": 13,
      "metadata": {
        "colab": {
          "base_uri": "https://localhost:8080/"
        },
        "id": "Pqi9tb-oOS5y",
        "outputId": "17e251f9-37f8-4689-cfc2-2c9e9029b6d8"
      },
      "outputs": [
        {
          "output_type": "stream",
          "name": "stdout",
          "text": [
            "Kelime Embeddingleri:\n",
            "kedi: [ 0.4024591  -0.97202551  0.73353035 -0.25072463]\n",
            "sütü: [-0.53843476 -0.3355934   0.10667068  0.36884236]\n",
            "ısırdı: [ 0.14816163 -0.98250885 -0.12664791  0.39385218]\n",
            "beni: [-0.83718442 -0.37779149  0.75099915  0.72621221]\n",
            "içti: [-0.43407326 -0.02174636 -0.44739159 -0.55133719]\n",
            "\n",
            "Seçilen kelimeler: kedi, sütü\n",
            "Tahmin edilen embedding: [-0.06798783 -0.65380945  0.42010052  0.05905886]\n",
            "Benzerlik (Tahmin vs ısırdı): 0.7154\n",
            "Benzerlik (Tahmin vs beni): 0.6086\n",
            "Benzerlik (Tahmin vs içti): -0.2714\n",
            "\n",
            "Tahmin edilen 3. kelime: ısırdı\n"
          ]
        }
      ],
      "source": [
        "import numpy as np\n",
        "\n",
        "\n",
        "words = [\"kedi\", \"sütü\", \"ısırdı\", \"beni\", \"içti\"]\n",
        "dim = 4\n",
        "\n",
        "embedding_dict = {word: np.random.uniform(-1, 1, dim) for word in words}\n",
        "\n",
        "def cosine_similarity(a, b, w1=None, w2=None):\n",
        "    dot_product = np.dot(a, b)\n",
        "    norm_a = np.linalg.norm(a)\n",
        "    norm_b = np.linalg.norm(b)\n",
        "    similarity = dot_product / (norm_a * norm_b)\n",
        "    if w1 and w2:\n",
        "        print(f\"Benzerlik ({w1} vs {w2}): {similarity:.4f}\")\n",
        "    return similarity\n",
        "\n",
        "def find_closest_word(vec, embeddings):\n",
        "    max_sim = -1\n",
        "    closest_word = None\n",
        "    for word, emb in embeddings.items():\n",
        "        sim = cosine_similarity(vec, emb, \"Tahmin\", word)\n",
        "        if sim > max_sim:\n",
        "            max_sim = sim\n",
        "            closest_word = word\n",
        "    return closest_word\n",
        "\n",
        "\n",
        "input_words = [\"kedi\", \"sütü\"]\n",
        "\n",
        "print(\"Kelime Embeddingleri:\")\n",
        "for w, emb in embedding_dict.items():\n",
        "    print(f\"{w}: {emb}\")\n",
        "\n",
        "\n",
        "predicted_embedding = (embedding_dict[input_words[0]] + embedding_dict[input_words[1]]) / 2\n",
        "\n",
        "print(f\"\\nSeçilen kelimeler: {input_words[0]}, {input_words[1]}\")\n",
        "print(f\"Tahmin edilen embedding: {predicted_embedding}\")\n",
        "\n",
        "\n",
        "candidate_embeddings = {w: e for w, e in embedding_dict.items() if w not in input_words}\n",
        "predicted_word = find_closest_word(predicted_embedding, candidate_embeddings)\n",
        "\n",
        "print(f\"\\nTahmin edilen 3. kelime: {predicted_word}\")"
      ]
    }
  ]
}